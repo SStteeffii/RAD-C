{
 "cells": [
  {
   "metadata": {},
   "cell_type": "markdown",
   "source": "## Import libraries## Import libraries",
   "id": "eb71acbc9c65f878"
  },
  {
   "cell_type": "code",
   "id": "initial_id",
   "metadata": {
    "collapsed": true,
    "ExecuteTime": {
     "end_time": "2025-01-17T14:00:00.358397Z",
     "start_time": "2025-01-17T14:00:00.350430Z"
    }
   },
   "source": [
    "from sklearn.metrics import accuracy_score, classification_report, ConfusionMatrixDisplay\n",
    "from sklearn.svm import SVC\n",
    "from sklearn.feature_selection import RFECV\n",
    "import os\n",
    "import re\n",
    "import pandas as pd\n",
    "from sklearn.model_selection import GridSearchCV, cross_val_predict, cross_val_score\n",
    "from sklearn.pipeline import Pipeline\n",
    "from sklearn.compose import ColumnTransformer\n",
    "from sklearn.preprocessing import MinMaxScaler\n",
    "from xgboost import XGBClassifier\n",
    "from sklearn.feature_extraction.text import TfidfVectorizer"
   ],
   "outputs": [],
   "execution_count": 37
  },
  {
   "metadata": {},
   "cell_type": "markdown",
   "source": "## Classification Audio files with SVM",
   "id": "35abbac981011b84"
  },
  {
   "metadata": {
    "ExecuteTime": {
     "end_time": "2025-01-17T14:00:00.409799Z",
     "start_time": "2025-01-17T14:00:00.373984Z"
    }
   },
   "cell_type": "code",
   "source": [
    "def load_process(path):\n",
    "    df = pd.read_csv(f'{path}/dem-info.csv')\n",
    "    # fix 66* string value in Age column\n",
    "    df['Age'] = df['Age'].apply(lambda x: x.replace('66*', '66'))\n",
    "    df['Age'] = df['Age'].astype(int)\n",
    "\n",
    "    # get_file_names\n",
    "    for ext in [\"CTD\", \"PFT\", 'SFT']:\n",
    "        df[f'{ext}_wav'] = f'{path}/' + df['Record-ID'] + '/' + df['Record-ID'] + f'__{ext}.wav'\n",
    "        df[f'{ext}_txt'] = f'{path}/' + df['Record-ID'] + '/' + df['Record-ID'] + f'__{ext}.txt'\n",
    "\n",
    "    return df\n",
    "\n",
    "def load_process_cleaned(path):\n",
    "    df = pd.read_csv(f'{path}/dem-info.csv')\n",
    "    # fix 66* string value in Age column\n",
    "    df['Age'] = df['Age'].apply(lambda x: x.replace('66*', '66'))\n",
    "    df['Age'] = df['Age'].astype(int)\n",
    "\n",
    "    # get_file_names\n",
    "    for ext in [\"CTD\", \"PFT\", 'SFT']:\n",
    "        df[f'{ext}_wav'] = f'{path}/' + df['Record-ID'] + '/' + df['Record-ID'] + f'_{ext}_clean.wav'\n",
    "        df[f'{ext}_txt'] = f'{path}/' + df['Record-ID'] + '/' + df['Record-ID'] + f'_{ext}.txt'\n",
    "\n",
    "    return df\n",
    "\n",
    "process_path = './process/PROCESS-V1'\n",
    "df = load_process(process_path)\n",
    "df_clean = load_process_cleaned(process_path)"
   ],
   "id": "3f43351b3f919eea",
   "outputs": [],
   "execution_count": 38
  },
  {
   "metadata": {
    "ExecuteTime": {
     "end_time": "2025-01-17T14:00:02.805475Z",
     "start_time": "2025-01-17T14:00:00.614324Z"
    }
   },
   "cell_type": "code",
   "source": [
    "ctd_features = pd.read_csv(\"./process/features/process-ctd-w2v-feature.csv\", header=None)\n",
    "pft_features = pd.read_csv(\"./process/features/process-pft-w2v-feature.csv\", header=None)\n",
    "sft_features = pd.read_csv(\"./process/features/process-sft-w2v-feature.csv\", header=None)\n",
    "ctd_features_clean = pd.read_csv(\"./process/features/process-ctd-w2v-feature-clean.csv\", header=None)\n",
    "pft_features_clean = pd.read_csv(\"./process/features/process-pft-w2v-feature-clean.csv\", header=None)\n",
    "sft_features_clean = pd.read_csv(\"./process/features/process-sft-w2v-feature-clean.csv\", header=None)\n",
    "\n",
    "df['Converted-MMSE'] = df.groupby('Class')['Converted-MMSE'].transform(lambda x: x.fillna(x.mean()))\n",
    "features = pd.concat([ctd_features_clean, pft_features_clean, sft_features_clean, df['Age']], axis=1, ignore_index=False)\n",
    "X = features.to_numpy()\n",
    "y_class, string_classes = pd.factorize(df['Class'])\n",
    "y_reg = df[\"Converted-MMSE\"]\n"
   ],
   "id": "8f25d77fecc2a864",
   "outputs": [],
   "execution_count": 39
  },
  {
   "metadata": {
    "ExecuteTime": {
     "end_time": "2025-01-17T14:02:19.126085Z",
     "start_time": "2025-01-17T14:00:03.836570Z"
    }
   },
   "cell_type": "code",
   "source": [
    "svm_model = SVC(class_weight='balanced', kernel='linear', random_state=42, C=10, gamma=0.001)\n",
    "rfe = RFECV(estimator=svm_model, step=1, cv=5, n_jobs=-1)\n",
    "X_rfe = rfe.fit_transform(X, y_class)\n",
    "\n",
    "cv_scores = cross_val_score(svm_model, X_rfe, y_class, cv=5, scoring='accuracy')\n",
    "svm_pred = cross_val_predict(svm_model, X_rfe, y_class, cv=5)\n",
    "\n",
    "print(f\"Cross-Validation Accuracy (5-fold): {cv_scores}\")\n",
    "print(f\"Durchschnittliche Genauigkeit: {cv_scores.mean()}\")\n",
    "print(\"Accuracy:\", accuracy_score(y_class, svm_pred))\n",
    "print(\"Classification Report:\\n\", classification_report(y_class, svm_pred))"
   ],
   "id": "8d7144134ef02b66",
   "outputs": [
    {
     "name": "stdout",
     "output_type": "stream",
     "text": [
      "Cross-Validation Accuracy (5-fold): [0.96875    0.875      0.70967742 0.87096774 0.83870968]\n",
      "Durchschnittliche Genauigkeit: 0.8526209677419356\n",
      "Accuracy: 0.8535031847133758\n",
      "Classification Report:\n",
      "               precision    recall  f1-score   support\n",
      "\n",
      "           0       0.80      0.88      0.84        59\n",
      "           1       0.67      0.38      0.48        16\n",
      "           2       0.92      0.93      0.92        82\n",
      "\n",
      "    accuracy                           0.85       157\n",
      "   macro avg       0.79      0.73      0.75       157\n",
      "weighted avg       0.85      0.85      0.85       157\n",
      "\n"
     ]
    }
   ],
   "execution_count": 40
  },
  {
   "metadata": {
    "ExecuteTime": {
     "end_time": "2025-01-17T14:02:19.533695Z",
     "start_time": "2025-01-17T14:02:19.214580Z"
    }
   },
   "cell_type": "code",
   "source": [
    "from sklearn.metrics import confusion_matrix, roc_curve, auc\n",
    "import matplotlib.pyplot as plt\n",
    "\n",
    "labels = ['Dementia', 'MCI', 'HC']\n",
    "cm = confusion_matrix(y_class, svm_pred, labels=[1, 0, 2])\n",
    "cmd = ConfusionMatrixDisplay(confusion_matrix=cm, display_labels=[\"Dementia\", \"MCI\", \"HC\"]).plot()\n",
    "cmd.ax_.set_title('Confusion Matrix')\n",
    "plt.show()\n",
    "\n"
   ],
   "id": "19a1672d4390e590",
   "outputs": [
    {
     "data": {
      "text/plain": [
       "<Figure size 640x480 with 2 Axes>"
      ],
      "image/png": "[encoded data removed]"
     },
     "metadata": {},
     "output_type": "display_data"
    }
   ],
   "execution_count": 41
  },
  {
   "metadata": {},
   "cell_type": "markdown",
   "source": "## Classification Text files with XGBoosting",
   "id": "3e1043312c9659be"
  },
  {
   "metadata": {
    "ExecuteTime": {
     "end_time": "2025-01-17T14:02:19.971775Z",
     "start_time": "2025-01-17T14:02:19.687129Z"
    }
   },
   "cell_type": "code",
   "source": [
    "# Helper function to extract data from text files\n",
    "def load_data(file_pattern, base_path):\n",
    "    data = []\n",
    "    record_ids = []\n",
    "    for root, _, files in os.walk(base_path):\n",
    "        for file in files:\n",
    "            if re.match(file_pattern, file):\n",
    "                with open(os.path.join(root, file), \"r\", encoding=\"utf-8\") as f:\n",
    "                    data.append(f.read())\n",
    "                match = re.search(r'(Process-rec-\\d{3})', file)\n",
    "                if match:\n",
    "                    record_ids.append(match.group(1))\n",
    "    return data, record_ids\n",
    "\n",
    "# Helper function to load labels\n",
    "def load_labels(label_file):\n",
    "    df = pd.read_csv(label_file)\n",
    "    return df.set_index('Record-ID')[['Class', 'Age', 'Converted-MMSE']]  # Removed 'Gender'\n",
    "\n",
    "# Load and combine data for CTD, PFT, and SFT\n",
    "base_path = \"./process/PROCESS-V1/\"\n",
    "file_patterns = {\n",
    "    'CTD': r\"Process-rec-\\d+__CTD\\.txt\",\n",
    "    'PFT': r\"Process-rec-\\d+__PFT\\.txt\",\n",
    "    'SFT': r\"Process-rec-\\d+__SFT\\.txt\"\n",
    "}\n",
    "data_dict = {}\n",
    "record_ids_dict = {}\n",
    "\n",
    "for key, pattern in file_patterns.items():\n",
    "    data, record_ids = load_data(pattern, base_path)\n",
    "    data_dict[key] = data\n",
    "    record_ids_dict[key] = record_ids\n",
    "\n",
    "label_file = \"./process/PROCESS-V1/dem-info-filled-mmse-score.csv\"\n",
    "labels = load_labels(label_file)"
   ],
   "id": "6b7f85bb2268c8d9",
   "outputs": [],
   "execution_count": 42
  },
  {
   "metadata": {
    "ExecuteTime": {
     "end_time": "2025-01-17T14:02:20.127448Z",
     "start_time": "2025-01-17T14:02:20.102963Z"
    }
   },
   "cell_type": "code",
   "source": [
    "# Combine CTD, PFT, and SFT data\n",
    "combined_data = []\n",
    "for record_id in labels.index:\n",
    "    if all(record_id in record_ids_dict[key] for key in file_patterns):\n",
    "        ctd_text = data_dict['CTD'][record_ids_dict['CTD'].index(record_id)]\n",
    "        pft_text = data_dict['PFT'][record_ids_dict['PFT'].index(record_id)]\n",
    "        sft_text = data_dict['SFT'][record_ids_dict['SFT'].index(record_id)]\n",
    "        row = labels.loc[record_id]\n",
    "        combined_data.append({\n",
    "            'Record-ID': record_id,\n",
    "            'CTD_Text': ctd_text,\n",
    "            'PFT_Text': pft_text,\n",
    "            'SFT_Text': sft_text,\n",
    "            'Class': row['Class'],\n",
    "            'Age': row['Age'],\n",
    "            'Converted-MMSE': row['Converted-MMSE'],\n",
    "        })\n",
    "\n",
    "# Create DataFrame\n",
    "df = pd.DataFrame(combined_data)\n",
    "\n",
    "# Encode Class as labels (target)\n",
    "df['Class'] = df['Class'].astype('category').cat.codes\n",
    "class_weights = df['Class'].value_counts(normalize=True).to_dict()\n",
    "for key in class_weights:\n",
    "    class_weights[key] = 1.0 / class_weights[key]\n",
    "\n",
    "df.dropna(inplace=True)\n",
    "\n",
    "# Combine all text for text feature extraction\n",
    "df['Combined_Text'] = df['CTD_Text'] + ' ' + df['PFT_Text'] + ' ' + df['SFT_Text']\n",
    "\n",
    "# Prepare features and labels\n",
    "X_combined_text = df['Combined_Text']\n",
    "X_numeric = df[['Age', 'Converted-MMSE']]\n",
    "y = df['Class']"
   ],
   "id": "23ec99d3f3b71819",
   "outputs": [],
   "execution_count": 43
  },
  {
   "metadata": {
    "ExecuteTime": {
     "end_time": "2025-01-17T14:03:06.060037Z",
     "start_time": "2025-01-17T14:02:20.278065Z"
    }
   },
   "cell_type": "code",
   "source": [
    "# Extract text features using TF-IDF\n",
    "tfidf_vectorizer = TfidfVectorizer(max_features=5000)\n",
    "X_text_features = tfidf_vectorizer.fit_transform(X_combined_text)\n",
    "\n",
    "# Combine all features\n",
    "X_combined = pd.concat([\n",
    "    pd.DataFrame(X_text_features.toarray(), columns=tfidf_vectorizer.get_feature_names_out()),\n",
    "    X_numeric.reset_index(drop=True)\n",
    "], axis=1)\n",
    "\n",
    "# Update and fit pipeline\n",
    "preprocessor = ColumnTransformer(\n",
    "    transformers=[\n",
    "        ('numeric', MinMaxScaler(), X_numeric.columns.tolist()),\n",
    "    ]\n",
    ")\n",
    "\n",
    "pipeline = Pipeline([\n",
    "    ('preprocessor', preprocessor),\n",
    "    ('classifier', XGBClassifier(random_state=42))\n",
    "])\n",
    "\n",
    "# Perform cross-validation and collect predictions\n",
    "param_grid = {\n",
    "    'classifier__n_estimators': [100, 200, 300],\n",
    "    'classifier__max_depth': [3, 5, 7],\n",
    "    'classifier__learning_rate': [0.01, 0.1, 0.2],\n",
    "    'classifier__subsample': [0.8, 1.0],\n",
    "    'classifier__colsample_bytree': [0.8, 1.0],\n",
    "    'classifier__gamma': [0, 1, 5]\n",
    "}\n",
    "\n",
    "grid_search = GridSearchCV(pipeline, param_grid, scoring='accuracy', cv=5, n_jobs=-1)\n",
    "grid_search.fit(X_combined, y)\n",
    "\n",
    "xgbmodel = grid_search.best_estimator_"
   ],
   "id": "dc66c1f2e1053bac",
   "outputs": [
    {
     "name": "stderr",
     "output_type": "stream",
     "text": [
      "C:\\Users\\Stefa\\OneDrive\\Dokumente\\_Studium\\Master\\Semester 2\\Speech and Language Processing\\Git PSTA\\SLP\\venv\\Lib\\site-packages\\numpy\\ma\\core.py:2820: RuntimeWarning: invalid value encountered in cast\n",
      "  _data = np.array(data, dtype=dtype, copy=copy,\n"
     ]
    }
   ],
   "execution_count": 44
  },
  {
   "metadata": {
    "ExecuteTime": {
     "end_time": "2025-01-17T14:03:07.269046Z",
     "start_time": "2025-01-17T14:03:06.274980Z"
    }
   },
   "cell_type": "code",
   "source": [
    "# Best parameters and model\n",
    "print(\"Best Parameters:\", grid_search.best_params_)\n",
    "print(\"Best Score:\", grid_search.best_score_)\n",
    "\n",
    "# Cross-validated predictions\n",
    "y_pred = cross_val_predict(grid_search.best_estimator_, X_combined, y, cv=5)\n",
    "\n",
    "# Evaluate the model\n",
    "print(\"Classification Report:\")\n",
    "print(classification_report(y, y_pred, target_names=labels['Class'].astype('category').cat.categories.tolist()))\n",
    "\n",
    "cm = confusion_matrix(y, y_pred)\n",
    "disp = ConfusionMatrixDisplay(confusion_matrix=cm, display_labels=labels['Class'].astype('category').cat.categories.tolist())\n",
    "disp.plot(cmap=plt.cm.Blues)\n",
    "plt.title(\"Cross-Validated Confusion Matrix\")\n",
    "plt.show()\n"
   ],
   "id": "ea8b7c1249d42861",
   "outputs": [
    {
     "name": "stdout",
     "output_type": "stream",
     "text": [
      "Best Parameters: {'classifier__colsample_bytree': 1.0, 'classifier__gamma': 0, 'classifier__learning_rate': 0.01, 'classifier__max_depth': 5, 'classifier__n_estimators': 100, 'classifier__subsample': 1.0}\n",
      "Best Score: 0.8659274193548387\n",
      "Classification Report:\n",
      "              precision    recall  f1-score   support\n",
      "\n",
      "    Dementia       0.83      0.62      0.71        16\n",
      "          HC       0.91      0.91      0.91        82\n",
      "         MCI       0.81      0.86      0.84        59\n",
      "\n",
      "    accuracy                           0.87       157\n",
      "   macro avg       0.85      0.80      0.82       157\n",
      "weighted avg       0.87      0.87      0.86       157\n",
      "\n"
     ]
    },
    {
     "data": {
      "text/plain": [
       "<Figure size 640x480 with 2 Axes>"
      ],
      "image/png": "[encoded data removed]"
     },
     "metadata": {},
     "output_type": "display_data"
    }
   ],
   "execution_count": 45
  },
  {
   "metadata": {},
   "cell_type": "markdown",
   "source": "## Combine SVM from Audio Files and XGBoost from Text Files",
   "id": "7128e19645d195b5"
  },
  {
   "metadata": {
    "ExecuteTime": {
     "end_time": "2025-01-17T14:03:07.641135Z",
     "start_time": "2025-01-17T14:03:07.442284Z"
    }
   },
   "cell_type": "code",
   "source": [
    "import pandas as pd\n",
    "from scipy.sparse import hstack\n",
    "from sklearn.preprocessing import MinMaxScaler\n",
    "\n",
    "# Audio-Features\n",
    "ctd_features_clean = pd.read_csv(\"./process/features/process-ctd-w2v-feature-clean.csv\", header=None)\n",
    "pft_features_clean = pd.read_csv(\"./process/features/process-pft-w2v-feature-clean.csv\", header=None)\n",
    "sft_features_clean = pd.read_csv(\"./process/features/process-sft-w2v-feature-clean.csv\", header=None)\n",
    "\n",
    "# Combine audio features and convert to NumPy array\n",
    "audio_features = pd.concat([ctd_features_clean, pft_features_clean, sft_features_clean], axis=1).to_numpy()\n",
    "\n",
    "# Text-Features\n",
    "from sklearn.feature_extraction.text import TfidfVectorizer\n",
    "\n",
    "# Combine all text into a single column\n",
    "df['Combined_Text'] = df['CTD_Text'] + ' ' + df['PFT_Text'] + ' ' + df['SFT_Text']\n",
    "\n",
    "# Extract text features using TF-IDF\n",
    "tfidf_vectorizer = TfidfVectorizer(max_features=5000)\n",
    "text_features = tfidf_vectorizer.fit_transform(df['Combined_Text'])\n",
    "\n",
    "# Numeric Features\n",
    "numeric_features = df[['Age', 'Converted-MMSE']]\n",
    "scaler = MinMaxScaler()\n",
    "numeric_features_scaled = scaler.fit_transform(numeric_features)  # Keep it as a NumPy array\n",
    "\n",
    "# Combine all features\n",
    "X_combined = hstack([\n",
    "    text_features,  # Sparse matrix for text features\n",
    "    audio_features,  # Numpy array for audio features\n",
    "    numeric_features_scaled  # Scaled numeric features\n",
    "])\n",
    "\n",
    "# Target labels\n",
    "y = df['Class']\n",
    "\n",
    "print(\"Shape of combined features:\", X_combined.shape)\n",
    "print(\"Number of labels:\", len(y))"
   ],
   "id": "d3f62800c114c8fc",
   "outputs": [
    {
     "name": "stdout",
     "output_type": "stream",
     "text": [
      "Shape of combined features: (157, 5314)\n",
      "Number of labels: 157\n"
     ]
    }
   ],
   "execution_count": 46
  },
  {
   "metadata": {
    "ExecuteTime": {
     "end_time": "2025-01-17T14:13:12.110921Z",
     "start_time": "2025-01-17T14:12:31.374645Z"
    }
   },
   "cell_type": "code",
   "source": [
    "import numpy as np\n",
    "from sklearn.ensemble import RandomForestClassifier\n",
    "from sklearn.model_selection import GridSearchCV, cross_val_predict\n",
    "from sklearn.metrics import classification_report, accuracy_score, confusion_matrix, ConfusionMatrixDisplay\n",
    "import matplotlib.pyplot as plt\n",
    "\n",
    "# Stellen Sie sicher, dass alle Arrays 2D sind\n",
    "if svm_pred.ndim == 1:\n",
    "    svm_pred = svm_pred.reshape(-1, 1)\n",
    "if y_pred.ndim == 1:\n",
    "    y_pred = y_pred.reshape(-1, 1)\n",
    "\n",
    "# Kombinieren der Vorhersagen\n",
    "meta_features = np.hstack([svm_pred, y_pred])\n",
    "\n",
    "# Definition der Hyperparameter für GridSearch\n",
    "param_grid = {\n",
    "    'n_estimators': [50, 100, 200],\n",
    "    'max_depth': [None, 10, 20],\n",
    "    'min_samples_split': [2, 5, 10],\n",
    "    'min_samples_leaf': [1, 2, 4],\n",
    "    'bootstrap': [True, False]\n",
    "}\n",
    "\n",
    "# GridSearch mit 5-facher Cross-Validation\n",
    "grid_search = GridSearchCV(\n",
    "    estimator=RandomForestClassifier(random_state=42, class_weight=\"balanced\"),\n",
    "    param_grid=param_grid,\n",
    "    scoring='f1_weighted',\n",
    "    cv=5,\n",
    "    n_jobs=-1\n",
    ")\n",
    "\n",
    "# Ausführen der GridSearch\n",
    "grid_search.fit(meta_features, y)\n",
    "\n",
    "# Beste Parameter und Modell\n",
    "best_rf_model = grid_search.best_estimator_\n",
    "print(\"Beste Parameter:\", grid_search.best_params_)\n",
    "\n",
    "# Cross-Validated Predictions mit dem besten Modell\n",
    "rf_pred = cross_val_predict(best_rf_model, meta_features, y, cv=5)\n",
    "\n",
    "# Ergebnisse\n",
    "print(\"Accuracy:\", accuracy_score(y, rf_pred))\n",
    "print(\"Classification Report:\\n\", classification_report(y, rf_pred))\n",
    "\n",
    "cm = confusion_matrix(y, y_pred)\n",
    "disp = ConfusionMatrixDisplay(confusion_matrix=cm, display_labels=labels['Class'].astype('category').cat.categories.tolist())\n",
    "disp.plot(cmap=plt.cm.Blues)\n",
    "plt.title(\"Cross-Validated Confusion Matrix\")\n",
    "plt.show()"
   ],
   "id": "748c973b8fbf7bb6",
   "outputs": [
    {
     "name": "stderr",
     "output_type": "stream",
     "text": [
      "C:\\Users\\Stefa\\OneDrive\\Dokumente\\_Studium\\Master\\Semester 2\\Speech and Language Processing\\Git PSTA\\SLP\\venv\\Lib\\site-packages\\numpy\\ma\\core.py:2820: RuntimeWarning: invalid value encountered in cast\n",
      "  _data = np.array(data, dtype=dtype, copy=copy,\n"
     ]
    },
    {
     "name": "stdout",
     "output_type": "stream",
     "text": [
      "Beste Parameter: {'bootstrap': False, 'max_depth': None, 'min_samples_leaf': 4, 'min_samples_split': 2, 'n_estimators': 100}\n",
      "Accuracy: 0.8535031847133758\n",
      "Classification Report:\n",
      "               precision    recall  f1-score   support\n",
      "\n",
      "           0       0.48      0.81      0.60        16\n",
      "           1       0.99      0.85      0.92        82\n",
      "           2       0.86      0.86      0.86        59\n",
      "\n",
      "    accuracy                           0.85       157\n",
      "   macro avg       0.78      0.84      0.79       157\n",
      "weighted avg       0.89      0.85      0.86       157\n",
      "\n"
     ]
    },
    {
     "data": {
      "text/plain": [
       "<Figure size 640x480 with 2 Axes>"
      ],
      "image/png": "[encoded data removed]"
     },
     "metadata": {},
     "output_type": "display_data"
    }
   ],
   "execution_count": 52
  }
 ],
 "metadata": {
  "kernelspec": {
   "display_name": "Python 3",
   "language": "python",
   "name": "python3"
  },
  "language_info": {
   "codemirror_mode": {
    "name": "ipython",
    "version": 2
   },
   "file_extension": ".py",
   "mimetype": "text/x-python",
   "name": "python",
   "nbconvert_exporter": "python",
   "pygments_lexer": "ipython2",
   "version": "2.7.6"
  }
 },
 "nbformat": 4,
 "nbformat_minor": 5
}
