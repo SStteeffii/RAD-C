{
 "cells": [
  {
   "metadata": {
    "ExecuteTime": {
     "end_time": "2025-01-05T13:16:04.727145Z",
     "start_time": "2025-01-05T13:16:02.833279Z"
    }
   },
   "cell_type": "code",
   "source": [
    "import pandas as pd\n",
    "\n",
    "# Originaldatei laden\n",
    "original_file_path = 'dem-info.csv'  # Ersetze mit dem Pfad zu deiner Originaldatei\n",
    "df = pd.read_csv(original_file_path)\n",
    "\n",
    "# Logik zur Auffüllung der 'Converted-MMSE'-Spalte\n",
    "def fill_mmse(row):\n",
    "    if pd.isna(row['Converted-MMSE']):  # Prüfen, ob der Wert leer ist\n",
    "        if row['Class'] == 'MCI':\n",
    "            return 27\n",
    "        elif row['Class'] == 'Dementia':\n",
    "            return 24\n",
    "        elif row['Class'] == 'HC':\n",
    "            return 30\n",
    "    return row['Converted-MMSE']\n",
    "\n",
    "# Anwenden der Logik auf die Daten\n",
    "df['Converted-MMSE'] = df.apply(fill_mmse, axis=1)\n",
    "\n",
    "# In einer neuen Datei speichern\n",
    "new_file_path = 'dem-info-filled-mmse-score.csv'\n",
    "df.to_csv(new_file_path, index=False)\n",
    "\n",
    "print(f\"Die Datei wurde erfolgreich erstellt und gespeichert unter: {new_file_path}\")\n"
   ],
   "id": "d088b2166d95fa55",
   "outputs": [
    {
     "name": "stdout",
     "output_type": "stream",
     "text": [
      "Die Datei wurde erfolgreich erstellt und gespeichert unter: dem-info-filled-mmse-score.csv\n"
     ]
    }
   ],
   "execution_count": 1
  },
  {
   "metadata": {
    "ExecuteTime": {
     "end_time": "2025-01-05T14:10:15.029795Z",
     "start_time": "2025-01-05T14:10:14.837044Z"
    }
   },
   "cell_type": "code",
   "source": [
    "import pandas as pd\n",
    "\n",
    "# Originaldatei laden\n",
    "original_file_path = 'dem-info.csv'  # Ersetze mit dem Pfad zu deiner Originaldatei\n",
    "df = pd.read_csv(original_file_path)\n",
    "\n",
    "# Logik zur Auffüllung der 'Converted-MMSE'-Spalte\n",
    "def fill_mmse(row):\n",
    "    if pd.isna(row['Converted-MMSE']):  # Prüfen, ob der Wert leer ist\n",
    "        if row['Class'] == 'MCI':\n",
    "            return 27\n",
    "        elif row['Class'] == 'Dementia':\n",
    "            return 24\n",
    "        elif row['Class'] == 'HC':\n",
    "            return 30\n",
    "    return row['Converted-MMSE']\n",
    "\n",
    "# Anwenden der Logik auf die Daten\n",
    "df['Converted-MMSE'] = df.apply(fill_mmse, axis=1)\n",
    "\n",
    "\n",
    "# Age \"*\" entfernen, da sonst als String gewertet wird\n",
    "for i in range(len(df['Age'])):\n",
    "    age = str(df.at[i, 'Age'])  # Wert als String behandeln\n",
    "    while not age.isdigit():  # Prüfen, ob der Wert numerisch ist\n",
    "        age = age[:-1]  # Letzte Stelle entfernen\n",
    "    df.at[i, 'Age'] = int(age) if age is not None else None  # Wert zuweisen\n",
    "\n",
    "\n",
    "# In einer neuen Datei speichern\n",
    "new_file_path = 'dem-info-filled-mmse-score.csv'\n",
    "df.to_csv(new_file_path, index=False)\n",
    "\n",
    "print(f\"Die Datei wurde erfolgreich erstellt und gespeichert unter: {new_file_path}\")"
   ],
   "id": "16ae9c48dedb326b",
   "outputs": [
    {
     "name": "stdout",
     "output_type": "stream",
     "text": [
      "Die Datei wurde erfolgreich erstellt und gespeichert unter: dem-info-filled-mmse-score.csv\n"
     ]
    }
   ],
   "execution_count": 2
  },
  {
   "metadata": {
    "ExecuteTime": {
     "end_time": "2025-01-06T14:18:16.448446Z",
     "start_time": "2025-01-06T14:18:15.836872Z"
    }
   },
   "cell_type": "code",
   "source": [
    "import pandas as pd\n",
    "\n",
    "# Originaldatei laden\n",
    "original_file_path = 'dem-info.csv'  # Ersetze mit dem Pfad zu deiner Originaldatei\n",
    "df = pd.read_csv(original_file_path)\n",
    "\n",
    "\n",
    "# Age \"*\" entfernen, da sonst als String gewertet wird\n",
    "for i in range(len(df['Age'])):\n",
    "    age = str(df.at[i, 'Age'])  # Wert als String behandeln\n",
    "    while not age.isdigit():  # Prüfen, ob der Wert numerisch ist\n",
    "        age = age[:-1]  # Letzte Stelle entfernen\n",
    "    df.at[i, 'Age'] = int(age) if age is not None else None  # Wert zuweisen\n",
    "\n",
    "\n",
    "# In einer neuen Datei speichern\n",
    "new_file_path = 'dem-info-age.csv'\n",
    "df.to_csv(new_file_path, index=False)\n",
    "\n",
    "print(f\"Die Datei wurde erfolgreich erstellt und gespeichert unter: {new_file_path}\")"
   ],
   "id": "e99575d35fea99d3",
   "outputs": [
    {
     "name": "stdout",
     "output_type": "stream",
     "text": [
      "Die Datei wurde erfolgreich erstellt und gespeichert unter: dem-info-age.csv\n"
     ]
    }
   ],
   "execution_count": 1
  }
 ],
 "metadata": {
  "kernelspec": {
   "display_name": "Python 3",
   "language": "python",
   "name": "python3"
  },
  "language_info": {
   "codemirror_mode": {
    "name": "ipython",
    "version": 2
   },
   "file_extension": ".py",
   "mimetype": "text/x-python",
   "name": "python",
   "nbconvert_exporter": "python",
   "pygments_lexer": "ipython2",
   "version": "2.7.6"
  }
 },
 "nbformat": 4,
 "nbformat_minor": 5
}
