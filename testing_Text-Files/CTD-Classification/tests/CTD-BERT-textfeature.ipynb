{
 "cells": [
  {
   "metadata": {
    "ExecuteTime": {
     "end_time": "2025-01-01T22:32:51.329974Z",
     "start_time": "2025-01-01T22:07:21.530622Z"
    }
   },
   "cell_type": "code",
   "source": [
    "import os\n",
    "import re\n",
    "import pandas as pd\n",
    "import torch\n",
    "from sklearn.model_selection import train_test_split\n",
    "from transformers import BertTokenizer, BertForSequenceClassification\n",
    "from torch.utils.data import Dataset, DataLoader\n",
    "from sklearn.metrics import classification_report, confusion_matrix, ConfusionMatrixDisplay\n",
    "import matplotlib.pyplot as plt\n",
    "\n",
    "# Load Helper Function\n",
    "def load_data(file_pattern):\n",
    "    data = []\n",
    "    record_ids = []\n",
    "    for root, _, files in os.walk(\"../process/PROCESS-V1/\"):\n",
    "        for file in files:\n",
    "            if re.match(file_pattern, file):\n",
    "                with open(os.path.join(root, file), \"r\", encoding=\"utf-8\") as f:\n",
    "                    data.append(f.read())\n",
    "                match = re.search(r'(Process-rec-\\d{3})', file)\n",
    "                if match:\n",
    "                    record_ids.append(match.group(1))\n",
    "    return data, record_ids\n",
    "\n",
    "def load_labels(label_file):\n",
    "    df = pd.read_csv(label_file)\n",
    "    df['label'] = df['Class'].astype('category').cat.codes  # Konvertiere Klassen zu numerischen Werten\n",
    "    label_map = df.set_index('Record-ID')['label'].to_dict()\n",
    "    return label_map, dict(enumerate(df['Class'].astype('category').cat.categories))\n",
    "\n",
    "# Custom Dataset class for PyTorch\n",
    "class CustomTextDataset(Dataset):\n",
    "    def __init__(self, texts, labels, tokenizer, max_len):\n",
    "        self.texts = texts\n",
    "        self.labels = labels\n",
    "        self.tokenizer = tokenizer\n",
    "        self.max_len = max_len\n",
    "\n",
    "    def __len__(self):\n",
    "        return len(self.texts)\n",
    "\n",
    "    def __getitem__(self, index):\n",
    "        text = self.texts[index]\n",
    "        label = self.labels[index]\n",
    "\n",
    "        encoding = self.tokenizer(\n",
    "            text,\n",
    "            max_length=self.max_len,\n",
    "            padding=\"max_length\",\n",
    "            truncation=True,\n",
    "            return_tensors=\"pt\",\n",
    "        )\n",
    "\n",
    "        return {\n",
    "            'input_ids': encoding['input_ids'].squeeze(0),\n",
    "            'attention_mask': encoding['attention_mask'].squeeze(0),\n",
    "            'label': torch.tensor(label, dtype=torch.long)\n",
    "        }\n",
    "\n",
    "# Load Data\n",
    "label_file = \"../process/PROCESS-V1/dem-info.csv\"\n",
    "labels, class_mapping = load_labels(label_file)\n",
    "file_pattern = r\"Process-rec-\\d+__CTD\\.txt\"\n",
    "data, record_ids = load_data(file_pattern)\n",
    "\n",
    "# Map Labels\n",
    "y = [labels.get(record_id, 0) for record_id in record_ids]\n",
    "\n",
    "if not data or not y:\n",
    "    raise ValueError(\"No matching data or labels found. Check your file paths or label mapping.\")\n",
    "\n",
    "# Train/Test Split\n",
    "X_train, X_test, y_train, y_test = train_test_split(data, y, test_size=0.2, random_state=42)\n",
    "\n",
    "# Load Pretrained Tokenizer and Model\n",
    "tokenizer = BertTokenizer.from_pretrained('bert-base-uncased')\n",
    "model = BertForSequenceClassification.from_pretrained('bert-base-uncased', num_labels=len(class_mapping))\n",
    "\n",
    "# Prepare DataLoader\n",
    "max_len = 512\n",
    "train_dataset = CustomTextDataset(X_train, y_train, tokenizer, max_len)\n",
    "test_dataset = CustomTextDataset(X_test, y_test, tokenizer, max_len)\n",
    "\n",
    "train_loader = DataLoader(train_dataset, batch_size=16, shuffle=True)\n",
    "test_loader = DataLoader(test_dataset, batch_size=16)\n",
    "\n",
    "# Training Loop\n",
    "optimizer = torch.optim.AdamW(model.parameters(), lr=5e-5)\n",
    "loss_fn = torch.nn.CrossEntropyLoss()\n",
    "device = torch.device(\"cuda\" if torch.cuda.is_available() else \"cpu\")\n",
    "model.to(device)\n",
    "\n",
    "for epoch in range(5):  # num_train_epochs\n",
    "    model.train()\n",
    "    total_loss = 0\n",
    "    for batch in train_loader:\n",
    "        inputs = {key: val.to(device) for key, val in batch.items() if key != 'label'}\n",
    "        labels = batch['label'].to(device)\n",
    "\n",
    "        optimizer.zero_grad()\n",
    "        outputs = model(**inputs)\n",
    "        loss = loss_fn(outputs.logits, labels)\n",
    "        loss.backward()\n",
    "        optimizer.step()\n",
    "\n",
    "        total_loss += loss.item()\n",
    "    print(f\"Epoch {epoch + 1}, Loss: {total_loss / len(train_loader)}\")\n",
    "\n",
    "# Evaluate Model\n",
    "y_pred = []\n",
    "true_labels = []\n",
    "model.eval()\n",
    "\n",
    "with torch.no_grad():\n",
    "    for batch in test_loader:\n",
    "        inputs = {key: val.to(device) for key, val in batch.items() if key != 'label'}\n",
    "        labels = batch['label'].to(device)\n",
    "\n",
    "        outputs = model(**inputs)\n",
    "        logits = outputs.logits\n",
    "        y_pred.extend(torch.argmax(logits, axis=1).cpu().numpy())\n",
    "        true_labels.extend(labels.cpu().numpy())\n",
    "\n",
    "# Classification Report\n",
    "print(classification_report(true_labels, y_pred, target_names=[class_mapping[i] for i in range(len(class_mapping))]))\n",
    "\n",
    "# Confusion Matrix\n",
    "cm = confusion_matrix(true_labels, y_pred)\n",
    "disp = ConfusionMatrixDisplay(confusion_matrix=cm, display_labels=[class_mapping[i] for i in range(len(class_mapping))])\n",
    "disp.plot(cmap=plt.cm.Blues)\n",
    "plt.title(\"Confusion Matrix\")\n",
    "plt.show()\n"
   ],
   "id": "31e4559b7843a7b0",
   "outputs": [
    {
     "name": "stderr",
     "output_type": "stream",
     "text": [
      "Some weights of BertForSequenceClassification were not initialized from the model checkpoint at bert-base-uncased and are newly initialized: ['classifier.bias', 'classifier.weight']\n",
      "You should probably TRAIN this model on a down-stream task to be able to use it for predictions and inference.\n"
     ]
    },
    {
     "name": "stdout",
     "output_type": "stream",
     "text": [
      "Epoch 1, Loss: 1.008524864912033\n",
      "Epoch 2, Loss: 0.9630035609006882\n",
      "Epoch 3, Loss: 0.9730495437979698\n"
     ]
    },
    {
     "name": "stderr",
     "output_type": "stream",
     "text": [
      "C:\\Users\\Stefa\\OneDrive\\Dokumente\\_Studium\\Master\\Semester 2\\Speech and Language Processing\\Git PSTA\\SLP\\venv\\Lib\\site-packages\\sklearn\\metrics\\_classification.py:1531: UndefinedMetricWarning: Precision is ill-defined and being set to 0.0 in labels with no predicted samples. Use `zero_division` parameter to control this behavior.\n",
      "  _warn_prf(average, modifier, f\"{metric.capitalize()} is\", len(result))\n",
      "C:\\Users\\Stefa\\OneDrive\\Dokumente\\_Studium\\Master\\Semester 2\\Speech and Language Processing\\Git PSTA\\SLP\\venv\\Lib\\site-packages\\sklearn\\metrics\\_classification.py:1531: UndefinedMetricWarning: Precision is ill-defined and being set to 0.0 in labels with no predicted samples. Use `zero_division` parameter to control this behavior.\n",
      "  _warn_prf(average, modifier, f\"{metric.capitalize()} is\", len(result))\n",
      "C:\\Users\\Stefa\\OneDrive\\Dokumente\\_Studium\\Master\\Semester 2\\Speech and Language Processing\\Git PSTA\\SLP\\venv\\Lib\\site-packages\\sklearn\\metrics\\_classification.py:1531: UndefinedMetricWarning: Precision is ill-defined and being set to 0.0 in labels with no predicted samples. Use `zero_division` parameter to control this behavior.\n",
      "  _warn_prf(average, modifier, f\"{metric.capitalize()} is\", len(result))\n"
     ]
    },
    {
     "name": "stdout",
     "output_type": "stream",
     "text": [
      "              precision    recall  f1-score   support\n",
      "\n",
      "    Dementia       0.00      0.00      0.00         2\n",
      "          HC       0.64      0.70      0.67        20\n",
      "         MCI       0.30      0.30      0.30        10\n",
      "\n",
      "    accuracy                           0.53        32\n",
      "   macro avg       0.31      0.33      0.32        32\n",
      "weighted avg       0.49      0.53      0.51        32\n",
      "\n"
     ]
    },
    {
     "data": {
      "text/plain": [
       "<Figure size 640x480 with 2 Axes>"
      ],
      "image/png": "[encoded data removed]"
     },
     "metadata": {},
     "output_type": "display_data"
    }
   ],
   "execution_count": 3
  },
  {
   "metadata": {
    "ExecuteTime": {
     "end_time": "2025-01-01T22:32:51.447789Z",
     "start_time": "2025-01-01T22:32:51.442983Z"
    }
   },
   "cell_type": "code",
   "source": "",
   "id": "f4d5f6d4a8611052",
   "outputs": [],
   "execution_count": null
  }
 ],
 "metadata": {
  "kernelspec": {
   "display_name": "Python 3",
   "language": "python",
   "name": "python3"
  },
  "language_info": {
   "codemirror_mode": {
    "name": "ipython",
    "version": 2
   },
   "file_extension": ".py",
   "mimetype": "text/x-python",
   "name": "python",
   "nbconvert_exporter": "python",
   "pygments_lexer": "ipython2",
   "version": "2.7.6"
  }
 },
 "nbformat": 4,
 "nbformat_minor": 5
}
