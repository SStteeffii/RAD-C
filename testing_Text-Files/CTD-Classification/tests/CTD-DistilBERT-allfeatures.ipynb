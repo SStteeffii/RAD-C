{
 "cells": [
  {
   "metadata": {
    "ExecuteTime": {
     "end_time": "2025-01-05T16:03:54.668072Z",
     "start_time": "2025-01-05T15:11:49.167525Z"
    }
   },
   "cell_type": "code",
   "source": [
    "import os\n",
    "import re\n",
    "import pandas as pd\n",
    "import torch\n",
    "from sklearn.model_selection import StratifiedKFold\n",
    "from transformers import DistilBertTokenizer, DistilBertForSequenceClassification\n",
    "from torch.utils.data import Dataset, DataLoader\n",
    "from sklearn.metrics import classification_report, confusion_matrix, ConfusionMatrixDisplay\n",
    "import numpy as np\n",
    "from collections import defaultdict\n",
    "import matplotlib.pyplot as plt\n",
    "\n",
    "# Custom Dataset\n",
    "class CustomTextDataset(Dataset):\n",
    "    def __init__(self, texts, labels, tokenizer, max_len):\n",
    "        self.texts = texts\n",
    "        self.labels = labels\n",
    "        self.tokenizer = tokenizer\n",
    "        self.max_len = max_len\n",
    "\n",
    "    def __len__(self):\n",
    "        return len(self.texts)\n",
    "\n",
    "    def __getitem__(self, index):\n",
    "        text = self.texts[index]\n",
    "        label = self.labels[index]\n",
    "\n",
    "        encoding = self.tokenizer(\n",
    "            text,\n",
    "            max_length=self.max_len,\n",
    "            padding=\"max_length\",\n",
    "            truncation=True,\n",
    "            return_tensors=\"pt\",\n",
    "        )\n",
    "\n",
    "        return {\n",
    "            'input_ids': encoding['input_ids'].squeeze(0),\n",
    "            'attention_mask': encoding['attention_mask'].squeeze(0),\n",
    "            'label': torch.tensor(label, dtype=torch.long)\n",
    "        }\n",
    "\n",
    "# Helper Functions\n",
    "def load_data(file_pattern):\n",
    "    data = []\n",
    "    record_ids = []\n",
    "    for root, _, files in os.walk(\"../process/PROCESS-V1/\"):\n",
    "        for file in files:\n",
    "            if re.match(file_pattern, file):\n",
    "                with open(os.path.join(root, file), \"r\", encoding=\"utf-8\") as f:\n",
    "                    data.append(f.read())\n",
    "                match = re.search(r'(Process-rec-\\d{3})', file)\n",
    "                if match:\n",
    "                    record_ids.append(match.group(1))\n",
    "    return data, record_ids\n",
    "\n",
    "def load_labels(label_file):\n",
    "    df = pd.read_csv(label_file)\n",
    "    df['label'] = df['Class'].astype('category').cat.codes\n",
    "    label_map = df.set_index('Record-ID')['label'].to_dict()\n",
    "    return label_map, dict(enumerate(df['Class'].astype('category').cat.categories))\n",
    "\n",
    "# Initialize\n",
    "label_file = \"../process/PROCESS-V1/dem-info-filled-mmse-score.csv\"\n",
    "labels, class_mapping = load_labels(label_file)\n",
    "file_pattern = r\"Process-rec-\\d+__CTD\\.txt\"\n",
    "data, record_ids = load_data(file_pattern)\n",
    "\n",
    "y = [labels.get(record_id, 0) for record_id in record_ids]\n",
    "\n",
    "device = torch.device(\"cuda\" if torch.cuda.is_available() else \"cpu\")\n",
    "tokenizer = DistilBertTokenizer.from_pretrained('distilbert-base-uncased')\n",
    "\n",
    "# Cross Validation\n",
    "skf = StratifiedKFold(n_splits=3, shuffle=True, random_state=42)\n",
    "max_len = 512\n",
    "batch_size = 16\n",
    "num_epochs = 7\n",
    "\n",
    "# Collect metrics\n",
    "all_reports = []\n",
    "confusion_matrices = []\n",
    "\n",
    "fold = 1\n",
    "for train_index, val_index in skf.split(data, y):\n",
    "    print(f\"\\nFold {fold}\")\n",
    "\n",
    "    X_train = [data[i] for i in train_index]\n",
    "    X_val = [data[i] for i in val_index]\n",
    "    y_train = [y[i] for i in train_index]\n",
    "    y_val = [y[i] for i in val_index]\n",
    "\n",
    "    train_dataset = CustomTextDataset(X_train, y_train, tokenizer, max_len)\n",
    "    val_dataset = CustomTextDataset(X_val, y_val, tokenizer, max_len)\n",
    "\n",
    "    train_loader = DataLoader(train_dataset, batch_size=batch_size, shuffle=True)\n",
    "    val_loader = DataLoader(val_dataset, batch_size=batch_size)\n",
    "\n",
    "    # Compute class weights\n",
    "    class_counts = np.bincount(y_train)\n",
    "    class_weights = torch.tensor([1.0 / count if count > 0 else 0.0 for count in class_counts], dtype=torch.float).to(device)\n",
    "\n",
    "    model = DistilBertForSequenceClassification.from_pretrained('distilbert-base-uncased', num_labels=len(class_mapping))\n",
    "    model.to(device)\n",
    "\n",
    "    optimizer = torch.optim.AdamW(model.parameters(), lr=5e-5)\n",
    "    loss_fn = torch.nn.CrossEntropyLoss(weight=class_weights)\n",
    "\n",
    "    for epoch in range(num_epochs):\n",
    "        model.train()\n",
    "        total_loss = 0\n",
    "        for batch in train_loader:\n",
    "            inputs = {key: val.to(device) for key, val in batch.items() if key != 'label'}\n",
    "            labels = batch['label'].to(device)\n",
    "\n",
    "            optimizer.zero_grad()\n",
    "            outputs = model(**inputs)\n",
    "            loss = loss_fn(outputs.logits, labels)\n",
    "            loss.backward()\n",
    "            optimizer.step()\n",
    "\n",
    "            total_loss += loss.item()\n",
    "        print(f\"Epoch {epoch + 1}, Loss: {total_loss / len(train_loader)}\")\n",
    "\n",
    "    model.eval()\n",
    "    y_pred = []\n",
    "    true_labels = []\n",
    "    with torch.no_grad():\n",
    "        for batch in val_loader:\n",
    "            inputs = {key: val.to(device) for key, val in batch.items() if key != 'label'}\n",
    "            labels = batch['label'].to(device)\n",
    "\n",
    "            outputs = model(**inputs)\n",
    "            y_pred.extend(torch.argmax(outputs.logits, axis=1).cpu().numpy())\n",
    "            true_labels.extend(labels.cpu().numpy())\n",
    "\n",
    "    # Compute Metrics for Fold\n",
    "    report = classification_report(true_labels, y_pred, output_dict=True, target_names=[class_mapping[i] for i in range(len(class_mapping))])\n",
    "    cm = confusion_matrix(true_labels, y_pred)\n",
    "\n",
    "    all_reports.append(report)\n",
    "    confusion_matrices.append(cm)\n",
    "\n",
    "    fold += 1\n",
    "\n",
    "# Average Metrics\n",
    "avg_report = defaultdict(dict)\n",
    "for key in all_reports[0].keys():\n",
    "    if isinstance(all_reports[0][key], dict):  # For class-wise metrics\n",
    "        for metric in all_reports[0][key].keys():\n",
    "            avg_report[key][metric] = np.mean([report[key][metric] for report in all_reports])\n",
    "    else:  # For overall metrics like accuracy\n",
    "        avg_report[key] = np.mean([report[key] for report in all_reports])\n",
    "\n",
    "print(\"\\nAverage Classification Report:\")\n",
    "for key, value in avg_report.items():\n",
    "    print(f\"{key}: {value}\")\n",
    "\n",
    "# Average Confusion Matrix\n",
    "avg_cm = np.mean(confusion_matrices, axis=0)\n",
    "print(\"\\nAverage Confusion Matrix:\")\n",
    "print(avg_cm)\n",
    "\n",
    "# Plot Average Confusion Matrix\n",
    "disp = ConfusionMatrixDisplay(confusion_matrix=avg_cm, display_labels=[class_mapping[i] for i in range(len(class_mapping))])\n",
    "disp.plot(cmap=plt.cm.Blues)\n",
    "plt.title(\"Average Confusion Matrix\")\n",
    "plt.show()\n"
   ],
   "id": "31e4559b7843a7b0",
   "outputs": [
    {
     "name": "stdout",
     "output_type": "stream",
     "text": [
      "\n",
      "Fold 1\n"
     ]
    },
    {
     "name": "stderr",
     "output_type": "stream",
     "text": [
      "Some weights of DistilBertForSequenceClassification were not initialized from the model checkpoint at distilbert-base-uncased and are newly initialized: ['classifier.bias', 'classifier.weight', 'pre_classifier.bias', 'pre_classifier.weight']\n",
      "You should probably TRAIN this model on a down-stream task to be able to use it for predictions and inference.\n"
     ]
    },
    {
     "name": "stdout",
     "output_type": "stream",
     "text": [
      "Epoch 1, Loss: 1.1187152011053902\n",
      "Epoch 2, Loss: 1.1057921988623483\n",
      "Epoch 3, Loss: 1.0975849628448486\n",
      "Epoch 4, Loss: 1.0951481206076485\n",
      "Epoch 5, Loss: 1.0173438106264387\n",
      "Epoch 6, Loss: 0.8342861873762948\n",
      "Epoch 7, Loss: 0.641912409237453\n",
      "\n",
      "Fold 2\n"
     ]
    },
    {
     "name": "stderr",
     "output_type": "stream",
     "text": [
      "Some weights of DistilBertForSequenceClassification were not initialized from the model checkpoint at distilbert-base-uncased and are newly initialized: ['classifier.bias', 'classifier.weight', 'pre_classifier.bias', 'pre_classifier.weight']\n",
      "You should probably TRAIN this model on a down-stream task to be able to use it for predictions and inference.\n"
     ]
    },
    {
     "name": "stdout",
     "output_type": "stream",
     "text": [
      "Epoch 1, Loss: 1.1154931102480208\n",
      "Epoch 2, Loss: 1.0876025812966483\n",
      "Epoch 3, Loss: 1.0687394993645805\n",
      "Epoch 4, Loss: 1.017250997679574\n",
      "Epoch 5, Loss: 0.8670815910611834\n",
      "Epoch 6, Loss: 0.6565519571304321\n",
      "Epoch 7, Loss: 0.5456504949501583\n"
     ]
    },
    {
     "name": "stderr",
     "output_type": "stream",
     "text": [
      "C:\\Users\\Stefa\\OneDrive\\Dokumente\\_Studium\\Master\\Semester 2\\Speech and Language Processing\\Git PSTA\\SLP\\venv\\Lib\\site-packages\\sklearn\\metrics\\_classification.py:1531: UndefinedMetricWarning: Precision is ill-defined and being set to 0.0 in labels with no predicted samples. Use `zero_division` parameter to control this behavior.\n",
      "  _warn_prf(average, modifier, f\"{metric.capitalize()} is\", len(result))\n",
      "C:\\Users\\Stefa\\OneDrive\\Dokumente\\_Studium\\Master\\Semester 2\\Speech and Language Processing\\Git PSTA\\SLP\\venv\\Lib\\site-packages\\sklearn\\metrics\\_classification.py:1531: UndefinedMetricWarning: Precision is ill-defined and being set to 0.0 in labels with no predicted samples. Use `zero_division` parameter to control this behavior.\n",
      "  _warn_prf(average, modifier, f\"{metric.capitalize()} is\", len(result))\n",
      "C:\\Users\\Stefa\\OneDrive\\Dokumente\\_Studium\\Master\\Semester 2\\Speech and Language Processing\\Git PSTA\\SLP\\venv\\Lib\\site-packages\\sklearn\\metrics\\_classification.py:1531: UndefinedMetricWarning: Precision is ill-defined and being set to 0.0 in labels with no predicted samples. Use `zero_division` parameter to control this behavior.\n",
      "  _warn_prf(average, modifier, f\"{metric.capitalize()} is\", len(result))\n"
     ]
    },
    {
     "name": "stdout",
     "output_type": "stream",
     "text": [
      "\n",
      "Fold 3\n"
     ]
    },
    {
     "name": "stderr",
     "output_type": "stream",
     "text": [
      "Some weights of DistilBertForSequenceClassification were not initialized from the model checkpoint at distilbert-base-uncased and are newly initialized: ['classifier.bias', 'classifier.weight', 'pre_classifier.bias', 'pre_classifier.weight']\n",
      "You should probably TRAIN this model on a down-stream task to be able to use it for predictions and inference.\n"
     ]
    },
    {
     "name": "stdout",
     "output_type": "stream",
     "text": [
      "Epoch 1, Loss: 1.1136382137026106\n",
      "Epoch 2, Loss: 1.074366671698434\n",
      "Epoch 3, Loss: 1.0330328941345215\n",
      "Epoch 4, Loss: 0.9420371566499982\n",
      "Epoch 5, Loss: 0.8659808550562177\n",
      "Epoch 6, Loss: 0.7687935403415135\n",
      "Epoch 7, Loss: 0.7039874025753566\n",
      "\n",
      "Average Classification Report:\n",
      "Dementia: {'precision': np.float64(0.10833333333333334), 'recall': np.float64(0.12222222222222223), 'f1-score': np.float64(0.11188811188811189), 'support': np.float64(5.333333333333333)}\n",
      "HC: {'precision': np.float64(0.6494918699186992), 'recall': np.float64(0.6697530864197531), 'f1-score': np.float64(0.6374121420821738), 'support': np.float64(27.333333333333332)}\n",
      "MCI: {'precision': np.float64(0.4993809058325187), 'recall': np.float64(0.46140350877192987), 'f1-score': np.float64(0.45474654377880186), 'support': np.float64(19.666666666666668)}\n",
      "accuracy: 0.5348330914368651\n",
      "macro avg: {'precision': np.float64(0.4190687030281837), 'recall': np.float64(0.4177929391379684), 'f1-score': np.float64(0.4013489325830291), 'support': np.float64(52.333333333333336)}\n",
      "weighted avg: {'precision': np.float64(0.5390671752527946), 'recall': np.float64(0.5348330914368651), 'f1-score': np.float64(0.5154478843887939), 'support': np.float64(52.333333333333336)}\n",
      "\n",
      "Average Confusion Matrix:\n",
      "[[ 0.66666667  2.          2.66666667]\n",
      " [ 1.66666667 18.33333333  7.33333333]\n",
      " [ 2.          8.66666667  9.        ]]\n"
     ]
    },
    {
     "data": {
      "text/plain": [
       "<Figure size 640x480 with 2 Axes>"
      ],
      "image/png": "[encoded data removed]"
     },
     "metadata": {},
     "output_type": "display_data"
    }
   ],
   "execution_count": 2
  },
  {
   "metadata": {
    "ExecuteTime": {
     "end_time": "2025-01-05T16:03:54.826412Z",
     "start_time": "2025-01-05T16:03:54.822896Z"
    }
   },
   "cell_type": "code",
   "source": "",
   "id": "f4d5f6d4a8611052",
   "outputs": [],
   "execution_count": null
  }
 ],
 "metadata": {
  "kernelspec": {
   "display_name": "Python 3",
   "language": "python",
   "name": "python3"
  },
  "language_info": {
   "codemirror_mode": {
    "name": "ipython",
    "version": 2
   },
   "file_extension": ".py",
   "mimetype": "text/x-python",
   "name": "python",
   "nbconvert_exporter": "python",
   "pygments_lexer": "ipython2",
   "version": "2.7.6"
  }
 },
 "nbformat": 4,
 "nbformat_minor": 5
}
